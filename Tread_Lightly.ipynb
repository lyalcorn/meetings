{
 "cells": [
  {
   "cell_type": "markdown",
   "metadata": {},
   "source": [
    "# Tread Lightly - A Code to apply logistic regression to the ZFIRE kinematic dataset\n",
    "Named after the Mastodon song, Tread Lightly, off of the album Once More 'Round the Sun:\n",
    "Open your eyes\n",
    "Take a deep breath and return to life\n",
    "Wake up and fight\n",
    "Fight for the love and the burning light"
   ]
  },
  {
   "cell_type": "code",
   "execution_count": 16,
   "metadata": {
    "collapsed": true
   },
   "outputs": [],
   "source": [
    "import pandas as pd\n",
    "import matplotlib.pyplot as plt\n",
    "from matplotlib import rc\n",
    "%matplotlib inline"
   ]
  },
  {
   "cell_type": "code",
   "execution_count": 14,
   "metadata": {
    "collapsed": false
   },
   "outputs": [
    {
     "data": {
      "text/html": [
       "<div>\n",
       "<table border=\"1\" class=\"dataframe\">\n",
       "  <thead>\n",
       "    <tr style=\"text-align: right;\">\n",
       "      <th></th>\n",
       "      <th>zid</th>\n",
       "      <th>mask</th>\n",
       "      <th>zspec</th>\n",
       "      <th>mass</th>\n",
       "      <th>cluster</th>\n",
       "      <th>disk</th>\n",
       "      <th>sfr</th>\n",
       "      <th>va</th>\n",
       "      <th>va_err</th>\n",
       "      <th>v22</th>\n",
       "      <th>...</th>\n",
       "      <th>j</th>\n",
       "      <th>j_err</th>\n",
       "      <th>sersic</th>\n",
       "      <th>sersic_err</th>\n",
       "      <th>size_e</th>\n",
       "      <th>size_s</th>\n",
       "      <th>size_t</th>\n",
       "      <th>r_ratio</th>\n",
       "      <th>sfr_density</th>\n",
       "      <th>diskbin</th>\n",
       "    </tr>\n",
       "  </thead>\n",
       "  <tbody>\n",
       "    <tr>\n",
       "      <th>0</th>\n",
       "      <td>2765</td>\n",
       "      <td>dec2013_mask1</td>\n",
       "      <td>2.23</td>\n",
       "      <td>10.44</td>\n",
       "      <td>False</td>\n",
       "      <td>False</td>\n",
       "      <td>83.3</td>\n",
       "      <td>199.33</td>\n",
       "      <td>9.53</td>\n",
       "      <td>180.25</td>\n",
       "      <td>...</td>\n",
       "      <td>555.11</td>\n",
       "      <td>25.07</td>\n",
       "      <td>4.00</td>\n",
       "      <td>0.00</td>\n",
       "      <td>2.81</td>\n",
       "      <td>1.41</td>\n",
       "      <td>0.47</td>\n",
       "      <td>0.33</td>\n",
       "      <td>3.36</td>\n",
       "      <td>0</td>\n",
       "    </tr>\n",
       "    <tr>\n",
       "      <th>1</th>\n",
       "      <td>3074</td>\n",
       "      <td>dec2013_mask1</td>\n",
       "      <td>2.23</td>\n",
       "      <td>10.19</td>\n",
       "      <td>False</td>\n",
       "      <td>False</td>\n",
       "      <td>-99.0</td>\n",
       "      <td>201.44</td>\n",
       "      <td>19.77</td>\n",
       "      <td>182.16</td>\n",
       "      <td>...</td>\n",
       "      <td>680.27</td>\n",
       "      <td>33.14</td>\n",
       "      <td>1.00</td>\n",
       "      <td>0.00</td>\n",
       "      <td>3.79</td>\n",
       "      <td>2.56</td>\n",
       "      <td>0.85</td>\n",
       "      <td>0.33</td>\n",
       "      <td>-99.00</td>\n",
       "      <td>0</td>\n",
       "    </tr>\n",
       "    <tr>\n",
       "      <th>2</th>\n",
       "      <td>3532</td>\n",
       "      <td>dec2013_mask1</td>\n",
       "      <td>2.10</td>\n",
       "      <td>9.40</td>\n",
       "      <td>True</td>\n",
       "      <td>False</td>\n",
       "      <td>9.9</td>\n",
       "      <td>22.59</td>\n",
       "      <td>9.61</td>\n",
       "      <td>20.43</td>\n",
       "      <td>...</td>\n",
       "      <td>23.58</td>\n",
       "      <td>9.36</td>\n",
       "      <td>0.86</td>\n",
       "      <td>0.09</td>\n",
       "      <td>1.67</td>\n",
       "      <td>0.48</td>\n",
       "      <td>0.16</td>\n",
       "      <td>0.33</td>\n",
       "      <td>1.14</td>\n",
       "      <td>0</td>\n",
       "    </tr>\n",
       "    <tr>\n",
       "      <th>3</th>\n",
       "      <td>3842</td>\n",
       "      <td>dec2013_mask1</td>\n",
       "      <td>2.10</td>\n",
       "      <td>10.25</td>\n",
       "      <td>True</td>\n",
       "      <td>True</td>\n",
       "      <td>8.8</td>\n",
       "      <td>218.58</td>\n",
       "      <td>23.80</td>\n",
       "      <td>197.65</td>\n",
       "      <td>...</td>\n",
       "      <td>807.28</td>\n",
       "      <td>51.25</td>\n",
       "      <td>0.87</td>\n",
       "      <td>0.04</td>\n",
       "      <td>3.58</td>\n",
       "      <td>2.63</td>\n",
       "      <td>0.88</td>\n",
       "      <td>0.33</td>\n",
       "      <td>0.22</td>\n",
       "      <td>1</td>\n",
       "    </tr>\n",
       "    <tr>\n",
       "      <th>4</th>\n",
       "      <td>4655</td>\n",
       "      <td>dec2013_mask1</td>\n",
       "      <td>2.10</td>\n",
       "      <td>9.34</td>\n",
       "      <td>True</td>\n",
       "      <td>True</td>\n",
       "      <td>1.2</td>\n",
       "      <td>116.73</td>\n",
       "      <td>30.26</td>\n",
       "      <td>105.55</td>\n",
       "      <td>...</td>\n",
       "      <td>103.68</td>\n",
       "      <td>19.67</td>\n",
       "      <td>0.59</td>\n",
       "      <td>0.17</td>\n",
       "      <td>0.99</td>\n",
       "      <td>0.58</td>\n",
       "      <td>0.19</td>\n",
       "      <td>0.33</td>\n",
       "      <td>0.39</td>\n",
       "      <td>1</td>\n",
       "    </tr>\n",
       "  </tbody>\n",
       "</table>\n",
       "<p>5 rows × 27 columns</p>\n",
       "</div>"
      ],
      "text/plain": [
       "    zid           mask  zspec   mass cluster   disk   sfr      va  va_err  \\\n",
       "0  2765  dec2013_mask1   2.23  10.44   False  False  83.3  199.33    9.53   \n",
       "1  3074  dec2013_mask1   2.23  10.19   False  False -99.0  201.44   19.77   \n",
       "2  3532  dec2013_mask1   2.10   9.40    True  False   9.9   22.59    9.61   \n",
       "3  3842  dec2013_mask1   2.10  10.25    True   True   8.8  218.58   23.80   \n",
       "4  4655  dec2013_mask1   2.10   9.34    True   True   1.2  116.73   30.26   \n",
       "\n",
       "      v22   ...          j  j_err  sersic  sersic_err  size_e  size_s  size_t  \\\n",
       "0  180.25   ...     555.11  25.07    4.00        0.00    2.81    1.41    0.47   \n",
       "1  182.16   ...     680.27  33.14    1.00        0.00    3.79    2.56    0.85   \n",
       "2   20.43   ...      23.58   9.36    0.86        0.09    1.67    0.48    0.16   \n",
       "3  197.65   ...     807.28  51.25    0.87        0.04    3.58    2.63    0.88   \n",
       "4  105.55   ...     103.68  19.67    0.59        0.17    0.99    0.58    0.19   \n",
       "\n",
       "   r_ratio  sfr_density  diskbin  \n",
       "0     0.33         3.36        0  \n",
       "1     0.33       -99.00        0  \n",
       "2     0.33         1.14        0  \n",
       "3     0.33         0.22        1  \n",
       "4     0.33         0.39        1  \n",
       "\n",
       "[5 rows x 27 columns]"
      ]
     },
     "execution_count": 14,
     "metadata": {},
     "output_type": "execute_result"
    }
   ],
   "source": [
    "galaxies = pd.read_table('zfire_recovered090517_rfix3_MCMC.cat',delim_whitespace=True)\n",
    "galaxies['diskbin'] = np.where(galaxies.disk == True, 1, 0)\n",
    "galaxies.head()"
   ]
  },
  {
   "cell_type": "code",
   "execution_count": 17,
   "metadata": {
    "collapsed": false
   },
   "outputs": [
    {
     "data": {
      "text/plain": [
       "<matplotlib.text.Text at 0x10e04a080>"
      ]
     },
     "execution_count": 17,
     "metadata": {},
     "output_type": "execute_result"
    },
    {
     "data": {
      "image/png": "[encoded data removed]",
      "text/plain": [
       "<matplotlib.figure.Figure at 0x10de4f7f0>"
      ]
     },
     "metadata": {},
     "output_type": "display_data"
    }
   ],
   "source": [
    "plt.scatter(galaxies.sig, galaxies.diskbin)\n",
    "plt.xlabel(r'$\\sigma_g$')\n",
    "plt.ylabel('Morphology')"
   ]
  },
  {
   "cell_type": "code",
   "execution_count": 18,
   "metadata": {
    "collapsed": false
   },
   "outputs": [
    {
     "data": {
      "text/plain": [
       "LinearRegression(copy_X=True, fit_intercept=True, n_jobs=1, normalize=False)"
      ]
     },
     "execution_count": 18,
     "metadata": {},
     "output_type": "execute_result"
    }
   ],
   "source": [
    "from sklearn.linear_model import LinearRegression\n",
    "linreg = LinearRegression()\n",
    "feature_cols = ['sig']\n",
    "X = galaxies[feature_cols]\n",
    "y = galaxies.diskbin\n",
    "linreg.fit(X, y)"
   ]
  },
  {
   "cell_type": "code",
   "execution_count": 19,
   "metadata": {
    "collapsed": false
   },
   "outputs": [
    {
     "data": {
      "text/html": [
       "<div>\n",
       "<table border=\"1\" class=\"dataframe\">\n",
       "  <thead>\n",
       "    <tr style=\"text-align: right;\">\n",
       "      <th></th>\n",
       "      <th>zid</th>\n",
       "      <th>mask</th>\n",
       "      <th>zspec</th>\n",
       "      <th>mass</th>\n",
       "      <th>cluster</th>\n",
       "      <th>disk</th>\n",
       "      <th>sfr</th>\n",
       "      <th>va</th>\n",
       "      <th>va_err</th>\n",
       "      <th>v22</th>\n",
       "      <th>...</th>\n",
       "      <th>j_err</th>\n",
       "      <th>sersic</th>\n",
       "      <th>sersic_err</th>\n",
       "      <th>size_e</th>\n",
       "      <th>size_s</th>\n",
       "      <th>size_t</th>\n",
       "      <th>r_ratio</th>\n",
       "      <th>sfr_density</th>\n",
       "      <th>diskbin</th>\n",
       "      <th>morph_pred</th>\n",
       "    </tr>\n",
       "  </thead>\n",
       "  <tbody>\n",
       "    <tr>\n",
       "      <th>0</th>\n",
       "      <td>2765</td>\n",
       "      <td>dec2013_mask1</td>\n",
       "      <td>2.23</td>\n",
       "      <td>10.44</td>\n",
       "      <td>False</td>\n",
       "      <td>False</td>\n",
       "      <td>83.3</td>\n",
       "      <td>199.33</td>\n",
       "      <td>9.53</td>\n",
       "      <td>180.25</td>\n",
       "      <td>...</td>\n",
       "      <td>25.07</td>\n",
       "      <td>4.00</td>\n",
       "      <td>0.00</td>\n",
       "      <td>2.81</td>\n",
       "      <td>1.41</td>\n",
       "      <td>0.47</td>\n",
       "      <td>0.33</td>\n",
       "      <td>3.36</td>\n",
       "      <td>0</td>\n",
       "      <td>0.706997</td>\n",
       "    </tr>\n",
       "    <tr>\n",
       "      <th>1</th>\n",
       "      <td>3074</td>\n",
       "      <td>dec2013_mask1</td>\n",
       "      <td>2.23</td>\n",
       "      <td>10.19</td>\n",
       "      <td>False</td>\n",
       "      <td>False</td>\n",
       "      <td>-99.0</td>\n",
       "      <td>201.44</td>\n",
       "      <td>19.77</td>\n",
       "      <td>182.16</td>\n",
       "      <td>...</td>\n",
       "      <td>33.14</td>\n",
       "      <td>1.00</td>\n",
       "      <td>0.00</td>\n",
       "      <td>3.79</td>\n",
       "      <td>2.56</td>\n",
       "      <td>0.85</td>\n",
       "      <td>0.33</td>\n",
       "      <td>-99.00</td>\n",
       "      <td>0</td>\n",
       "      <td>0.588499</td>\n",
       "    </tr>\n",
       "    <tr>\n",
       "      <th>2</th>\n",
       "      <td>3532</td>\n",
       "      <td>dec2013_mask1</td>\n",
       "      <td>2.10</td>\n",
       "      <td>9.40</td>\n",
       "      <td>True</td>\n",
       "      <td>False</td>\n",
       "      <td>9.9</td>\n",
       "      <td>22.59</td>\n",
       "      <td>9.61</td>\n",
       "      <td>20.43</td>\n",
       "      <td>...</td>\n",
       "      <td>9.36</td>\n",
       "      <td>0.86</td>\n",
       "      <td>0.09</td>\n",
       "      <td>1.67</td>\n",
       "      <td>0.48</td>\n",
       "      <td>0.16</td>\n",
       "      <td>0.33</td>\n",
       "      <td>1.14</td>\n",
       "      <td>0</td>\n",
       "      <td>0.509284</td>\n",
       "    </tr>\n",
       "    <tr>\n",
       "      <th>3</th>\n",
       "      <td>3842</td>\n",
       "      <td>dec2013_mask1</td>\n",
       "      <td>2.10</td>\n",
       "      <td>10.25</td>\n",
       "      <td>True</td>\n",
       "      <td>True</td>\n",
       "      <td>8.8</td>\n",
       "      <td>218.58</td>\n",
       "      <td>23.80</td>\n",
       "      <td>197.65</td>\n",
       "      <td>...</td>\n",
       "      <td>51.25</td>\n",
       "      <td>0.87</td>\n",
       "      <td>0.04</td>\n",
       "      <td>3.58</td>\n",
       "      <td>2.63</td>\n",
       "      <td>0.88</td>\n",
       "      <td>0.33</td>\n",
       "      <td>0.22</td>\n",
       "      <td>1</td>\n",
       "      <td>0.316346</td>\n",
       "    </tr>\n",
       "    <tr>\n",
       "      <th>4</th>\n",
       "      <td>4655</td>\n",
       "      <td>dec2013_mask1</td>\n",
       "      <td>2.10</td>\n",
       "      <td>9.34</td>\n",
       "      <td>True</td>\n",
       "      <td>True</td>\n",
       "      <td>1.2</td>\n",
       "      <td>116.73</td>\n",
       "      <td>30.26</td>\n",
       "      <td>105.55</td>\n",
       "      <td>...</td>\n",
       "      <td>19.67</td>\n",
       "      <td>0.59</td>\n",
       "      <td>0.17</td>\n",
       "      <td>0.99</td>\n",
       "      <td>0.58</td>\n",
       "      <td>0.19</td>\n",
       "      <td>0.33</td>\n",
       "      <td>0.39</td>\n",
       "      <td>1</td>\n",
       "      <td>0.323508</td>\n",
       "    </tr>\n",
       "  </tbody>\n",
       "</table>\n",
       "<p>5 rows × 28 columns</p>\n",
       "</div>"
      ],
      "text/plain": [
       "    zid           mask  zspec   mass cluster   disk   sfr      va  va_err  \\\n",
       "0  2765  dec2013_mask1   2.23  10.44   False  False  83.3  199.33    9.53   \n",
       "1  3074  dec2013_mask1   2.23  10.19   False  False -99.0  201.44   19.77   \n",
       "2  3532  dec2013_mask1   2.10   9.40    True  False   9.9   22.59    9.61   \n",
       "3  3842  dec2013_mask1   2.10  10.25    True   True   8.8  218.58   23.80   \n",
       "4  4655  dec2013_mask1   2.10   9.34    True   True   1.2  116.73   30.26   \n",
       "\n",
       "      v22     ...      j_err  sersic  sersic_err  size_e  size_s  size_t  \\\n",
       "0  180.25     ...      25.07    4.00        0.00    2.81    1.41    0.47   \n",
       "1  182.16     ...      33.14    1.00        0.00    3.79    2.56    0.85   \n",
       "2   20.43     ...       9.36    0.86        0.09    1.67    0.48    0.16   \n",
       "3  197.65     ...      51.25    0.87        0.04    3.58    2.63    0.88   \n",
       "4  105.55     ...      19.67    0.59        0.17    0.99    0.58    0.19   \n",
       "\n",
       "   r_ratio  sfr_density  diskbin  morph_pred  \n",
       "0     0.33         3.36        0    0.706997  \n",
       "1     0.33       -99.00        0    0.588499  \n",
       "2     0.33         1.14        0    0.509284  \n",
       "3     0.33         0.22        1    0.316346  \n",
       "4     0.33         0.39        1    0.323508  \n",
       "\n",
       "[5 rows x 28 columns]"
      ]
     },
     "execution_count": 19,
     "metadata": {},
     "output_type": "execute_result"
    }
   ],
   "source": [
    "# make predictions for all values of X\n",
    "galaxies['morph_pred'] = linreg.predict(X)\n",
    "galaxies.head()"
   ]
  },
  {
   "cell_type": "code",
   "execution_count": 23,
   "metadata": {
    "collapsed": false
   },
   "outputs": [
    {
     "data": {
      "text/plain": [
       "<matplotlib.text.Text at 0x1129fad30>"
      ]
     },
     "execution_count": 23,
     "metadata": {},
     "output_type": "execute_result"
    },
    {
     "data": {
      "image/png": "[encoded data removed]",
      "text/plain": [
       "<matplotlib.figure.Figure at 0x1129cea20>"
      ]
     },
     "metadata": {},
     "output_type": "display_data"
    }
   ],
   "source": [
    "# plot those predictions connected by a line\n",
    "plt.scatter(galaxies.sig, galaxies.diskbin)\n",
    "plt.plot(galaxies.sig, galaxies.morph_pred, color='red')\n",
    "plt.xlabel(r'$\\sigma_g$')\n",
    "plt.ylabel('Predicted Morphology')"
   ]
  },
  {
   "cell_type": "code",
   "execution_count": 25,
   "metadata": {
    "collapsed": false
   },
   "outputs": [
    {
     "data": {
      "text/plain": [
       "<matplotlib.text.Text at 0x1113bda90>"
      ]
     },
     "execution_count": 25,
     "metadata": {},
     "output_type": "execute_result"
    },
    {
     "data": {
      "image/png": "[encoded data removed]",
      "text/plain": [
       "<matplotlib.figure.Figure at 0x1129dca90>"
      ]
     },
     "metadata": {},
     "output_type": "display_data"
    }
   ],
   "source": [
    "#Using Logistic Regression Instead\n",
    "#Logistic regression can do what we just did:\n",
    "\n",
    "# fit a logistic regression model and store the class predictions\n",
    "from sklearn.linear_model import LogisticRegression\n",
    "logreg = LogisticRegression(C=1e9)\n",
    "feature_cols = ['sig']\n",
    "X = galaxies[feature_cols]\n",
    "y = galaxies.diskbin\n",
    "logreg.fit(X, y)\n",
    "galaxies['morph_pred_class'] = logreg.predict(X)\n",
    "plt.scatter(galaxies.sig, galaxies.diskbin)\n",
    "plt.plot(galaxies.sig, galaxies.morph_pred_class, color='red')\n",
    "plt.xlabel(r'$\\sigma_g$')\n",
    "plt.ylabel('Morphology')"
   ]
  },
  {
   "cell_type": "code",
   "execution_count": 26,
   "metadata": {
    "collapsed": false
   },
   "outputs": [
    {
     "data": {
      "text/plain": [
       "<matplotlib.text.Text at 0x112aee400>"
      ]
     },
     "execution_count": 26,
     "metadata": {},
     "output_type": "execute_result"
    },
    {
     "data": {
      "image/png": "[encoded data removed]",
      "text/plain": [
       "<matplotlib.figure.Figure at 0x112aee160>"
      ]
     },
     "metadata": {},
     "output_type": "display_data"
    }
   ],
   "source": [
    "#What if we wanted the predicted probabilities instead of just the class predictions, to understand how confident we are in a given prediction?\n",
    "\n",
    "# store the predicted probabilites of class 1\n",
    "galaxies['morph_pred_prob'] = logreg.predict_proba(X)[:, 1]\n",
    "# plot the predicted probabilities\n",
    "plt.scatter(galaxies.sig, galaxies.diskbin)\n",
    "plt.plot(galaxies.sig, galaxies.morph_pred_prob, color='red')\n",
    "plt.xlabel(r'$\\sigma_g$')\n",
    "plt.ylabel('Morphology')"
   ]
  },
  {
   "cell_type": "code",
   "execution_count": 28,
   "metadata": {
    "collapsed": false
   },
   "outputs": [
    {
     "name": "stdout",
     "output_type": "stream",
     "text": [
      "[[ 0.51939651  0.48060349]]\n",
      "[[ 0.70125972  0.29874028]]\n",
      "[[ 0.26730773  0.73269227]]\n"
     ]
    }
   ],
   "source": [
    "print(logreg.predict_proba(50))\n",
    "print(logreg.predict_proba(25))\n",
    "print(logreg.predict_proba(85))"
   ]
  },
  {
   "cell_type": "code",
   "execution_count": null,
   "metadata": {
    "collapsed": true
   },
   "outputs": [],
   "source": []
  }
 ],
 "metadata": {
  "kernelspec": {
   "display_name": "Python 3",
   "language": "python",
   "name": "python3"
  },
  "language_info": {
   "codemirror_mode": {
    "name": "ipython",
    "version": 3
   },
   "file_extension": ".py",
   "mimetype": "text/x-python",
   "name": "python",
   "nbconvert_exporter": "python",
   "pygments_lexer": "ipython3",
   "version": "3.5.2"
  }
 },
 "nbformat": 4,
 "nbformat_minor": 2
}
