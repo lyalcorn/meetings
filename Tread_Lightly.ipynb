{
 "cells": [
  {
   "cell_type": "markdown",
   "metadata": {},
   "source": [
    "# Tread Lightly - A Code to apply logistic regression to the ZFIRE kinematic dataset\n",
    "Named after the Mastodon song, Tread Lightly, off of the album Once More 'Round the Sun:\n",
    "Open your eyes\n",
    "Take a deep breath and return to life\n",
    "Wake up and fight\n",
    "Fight for the love and the burning light"
   ]
  },
  {
   "cell_type": "code",
   "execution_count": 2,
   "metadata": {
    "collapsed": true
   },
   "outputs": [],
   "source": [
    "import pandas as pd\n",
    "import matplotlib.pyplot as plt\n",
    "from matplotlib import rc\n",
    "%matplotlib inline"
   ]
  },
  {
   "cell_type": "code",
   "execution_count": 3,
   "metadata": {
    "collapsed": false
   },
   "outputs": [
    {
     "data": {
      "text/html": [
       "<div>\n",
       "<table border=\"1\" class=\"dataframe\">\n",
       "  <thead>\n",
       "    <tr style=\"text-align: right;\">\n",
       "      <th></th>\n",
       "      <th>zid</th>\n",
       "      <th>mask</th>\n",
       "      <th>zspec</th>\n",
       "      <th>mass</th>\n",
       "      <th>cluster</th>\n",
       "      <th>disk</th>\n",
       "      <th>compact</th>\n",
       "      <th>sfr</th>\n",
       "      <th>va</th>\n",
       "      <th>va_err</th>\n",
       "      <th>...</th>\n",
       "      <th>j</th>\n",
       "      <th>j_err</th>\n",
       "      <th>sersic</th>\n",
       "      <th>sersic_err</th>\n",
       "      <th>size_e</th>\n",
       "      <th>size_s</th>\n",
       "      <th>size_t</th>\n",
       "      <th>r_ratio</th>\n",
       "      <th>sfr_density</th>\n",
       "      <th>diskbin</th>\n",
       "    </tr>\n",
       "  </thead>\n",
       "  <tbody>\n",
       "    <tr>\n",
       "      <th>0</th>\n",
       "      <td>2765</td>\n",
       "      <td>dec2013_mask1</td>\n",
       "      <td>2.23</td>\n",
       "      <td>10.44</td>\n",
       "      <td>False</td>\n",
       "      <td>False</td>\n",
       "      <td>False</td>\n",
       "      <td>83.3</td>\n",
       "      <td>273.33</td>\n",
       "      <td>9.53</td>\n",
       "      <td>...</td>\n",
       "      <td>656.51</td>\n",
       "      <td>27.79</td>\n",
       "      <td>4.00</td>\n",
       "      <td>0.00</td>\n",
       "      <td>2.81</td>\n",
       "      <td>1.43</td>\n",
       "      <td>1.33</td>\n",
       "      <td>0.93</td>\n",
       "      <td>3.36</td>\n",
       "      <td>0</td>\n",
       "    </tr>\n",
       "    <tr>\n",
       "      <th>1</th>\n",
       "      <td>3074</td>\n",
       "      <td>dec2013_mask1</td>\n",
       "      <td>2.23</td>\n",
       "      <td>10.19</td>\n",
       "      <td>False</td>\n",
       "      <td>False</td>\n",
       "      <td>False</td>\n",
       "      <td>-99.0</td>\n",
       "      <td>224.80</td>\n",
       "      <td>19.77</td>\n",
       "      <td>...</td>\n",
       "      <td>705.83</td>\n",
       "      <td>33.34</td>\n",
       "      <td>1.00</td>\n",
       "      <td>0.00</td>\n",
       "      <td>3.79</td>\n",
       "      <td>2.58</td>\n",
       "      <td>1.46</td>\n",
       "      <td>0.57</td>\n",
       "      <td>-99.00</td>\n",
       "      <td>0</td>\n",
       "    </tr>\n",
       "    <tr>\n",
       "      <th>2</th>\n",
       "      <td>3532</td>\n",
       "      <td>dec2013_mask1</td>\n",
       "      <td>2.10</td>\n",
       "      <td>9.40</td>\n",
       "      <td>True</td>\n",
       "      <td>False</td>\n",
       "      <td>False</td>\n",
       "      <td>9.9</td>\n",
       "      <td>17.55</td>\n",
       "      <td>9.61</td>\n",
       "      <td>...</td>\n",
       "      <td>16.00</td>\n",
       "      <td>8.84</td>\n",
       "      <td>0.86</td>\n",
       "      <td>0.09</td>\n",
       "      <td>1.67</td>\n",
       "      <td>0.51</td>\n",
       "      <td>0.30</td>\n",
       "      <td>0.58</td>\n",
       "      <td>1.14</td>\n",
       "      <td>0</td>\n",
       "    </tr>\n",
       "    <tr>\n",
       "      <th>3</th>\n",
       "      <td>3842</td>\n",
       "      <td>dec2013_mask1</td>\n",
       "      <td>2.10</td>\n",
       "      <td>10.25</td>\n",
       "      <td>True</td>\n",
       "      <td>True</td>\n",
       "      <td>False</td>\n",
       "      <td>8.8</td>\n",
       "      <td>251.36</td>\n",
       "      <td>23.80</td>\n",
       "      <td>...</td>\n",
       "      <td>838.88</td>\n",
       "      <td>49.05</td>\n",
       "      <td>0.87</td>\n",
       "      <td>0.04</td>\n",
       "      <td>3.58</td>\n",
       "      <td>3.18</td>\n",
       "      <td>1.59</td>\n",
       "      <td>0.50</td>\n",
       "      <td>0.22</td>\n",
       "      <td>1</td>\n",
       "    </tr>\n",
       "    <tr>\n",
       "      <th>4</th>\n",
       "      <td>4655</td>\n",
       "      <td>dec2013_mask1</td>\n",
       "      <td>2.10</td>\n",
       "      <td>9.34</td>\n",
       "      <td>True</td>\n",
       "      <td>True</td>\n",
       "      <td>True</td>\n",
       "      <td>1.2</td>\n",
       "      <td>134.39</td>\n",
       "      <td>30.26</td>\n",
       "      <td>...</td>\n",
       "      <td>112.57</td>\n",
       "      <td>19.59</td>\n",
       "      <td>0.59</td>\n",
       "      <td>0.17</td>\n",
       "      <td>0.99</td>\n",
       "      <td>1.21</td>\n",
       "      <td>0.60</td>\n",
       "      <td>0.49</td>\n",
       "      <td>0.39</td>\n",
       "      <td>1</td>\n",
       "    </tr>\n",
       "  </tbody>\n",
       "</table>\n",
       "<p>5 rows × 28 columns</p>\n",
       "</div>"
      ],
      "text/plain": [
       "    zid           mask  zspec   mass cluster   disk compact   sfr      va  \\\n",
       "0  2765  dec2013_mask1   2.23  10.44   False  False   False  83.3  273.33   \n",
       "1  3074  dec2013_mask1   2.23  10.19   False  False   False -99.0  224.80   \n",
       "2  3532  dec2013_mask1   2.10   9.40    True  False   False   9.9   17.55   \n",
       "3  3842  dec2013_mask1   2.10  10.25    True   True   False   8.8  251.36   \n",
       "4  4655  dec2013_mask1   2.10   9.34    True   True    True   1.2  134.39   \n",
       "\n",
       "   va_err   ...          j  j_err  sersic  sersic_err  size_e  size_s  size_t  \\\n",
       "0    9.53   ...     656.51  27.79    4.00        0.00    2.81    1.43    1.33   \n",
       "1   19.77   ...     705.83  33.34    1.00        0.00    3.79    2.58    1.46   \n",
       "2    9.61   ...      16.00   8.84    0.86        0.09    1.67    0.51    0.30   \n",
       "3   23.80   ...     838.88  49.05    0.87        0.04    3.58    3.18    1.59   \n",
       "4   30.26   ...     112.57  19.59    0.59        0.17    0.99    1.21    0.60   \n",
       "\n",
       "   r_ratio  sfr_density  diskbin  \n",
       "0     0.93         3.36        0  \n",
       "1     0.57       -99.00        0  \n",
       "2     0.58         1.14        0  \n",
       "3     0.50         0.22        1  \n",
       "4     0.49         0.39        1  \n",
       "\n",
       "[5 rows x 28 columns]"
      ]
     },
     "execution_count": 3,
     "metadata": {},
     "output_type": "execute_result"
    }
   ],
   "source": [
    "galaxies = pd.read_table('zfire_recovered090517_rtltrs_MCMC.cat',delim_whitespace=True)\n",
    "galaxies['diskbin'] = np.where(galaxies.disk == True, 1, 0)\n",
    "galaxies.head()"
   ]
  },
  {
   "cell_type": "code",
   "execution_count": 4,
   "metadata": {
    "collapsed": false
   },
   "outputs": [
    {
     "data": {
      "text/plain": [
       "<matplotlib.text.Text at 0x10dd246a0>"
      ]
     },
     "execution_count": 4,
     "metadata": {},
     "output_type": "execute_result"
    },
    {
     "data": {
      "image/png": "[encoded data removed]",
      "text/plain": [
       "<matplotlib.figure.Figure at 0x10dbb1e10>"
      ]
     },
     "metadata": {},
     "output_type": "display_data"
    }
   ],
   "source": [
    "plt.scatter(galaxies.sig, galaxies.diskbin)\n",
    "plt.xlabel(r'$\\sigma_g$')\n",
    "plt.ylabel('Morphology')"
   ]
  },
  {
   "cell_type": "code",
   "execution_count": 5,
   "metadata": {
    "collapsed": false
   },
   "outputs": [
    {
     "data": {
      "text/plain": [
       "LinearRegression(copy_X=True, fit_intercept=True, n_jobs=1, normalize=False)"
      ]
     },
     "execution_count": 5,
     "metadata": {},
     "output_type": "execute_result"
    }
   ],
   "source": [
    "from sklearn.linear_model import LinearRegression\n",
    "linreg = LinearRegression()\n",
    "feature_cols = ['sig']\n",
    "X = galaxies[feature_cols]\n",
    "y = galaxies.diskbin\n",
    "linreg.fit(X, y)"
   ]
  },
  {
   "cell_type": "code",
   "execution_count": 6,
   "metadata": {
    "collapsed": false
   },
   "outputs": [
    {
     "data": {
      "text/html": [
       "<div>\n",
       "<table border=\"1\" class=\"dataframe\">\n",
       "  <thead>\n",
       "    <tr style=\"text-align: right;\">\n",
       "      <th></th>\n",
       "      <th>zid</th>\n",
       "      <th>mask</th>\n",
       "      <th>zspec</th>\n",
       "      <th>mass</th>\n",
       "      <th>cluster</th>\n",
       "      <th>disk</th>\n",
       "      <th>compact</th>\n",
       "      <th>sfr</th>\n",
       "      <th>va</th>\n",
       "      <th>va_err</th>\n",
       "      <th>...</th>\n",
       "      <th>j_err</th>\n",
       "      <th>sersic</th>\n",
       "      <th>sersic_err</th>\n",
       "      <th>size_e</th>\n",
       "      <th>size_s</th>\n",
       "      <th>size_t</th>\n",
       "      <th>r_ratio</th>\n",
       "      <th>sfr_density</th>\n",
       "      <th>diskbin</th>\n",
       "      <th>morph_pred</th>\n",
       "    </tr>\n",
       "  </thead>\n",
       "  <tbody>\n",
       "    <tr>\n",
       "      <th>0</th>\n",
       "      <td>2765</td>\n",
       "      <td>dec2013_mask1</td>\n",
       "      <td>2.23</td>\n",
       "      <td>10.44</td>\n",
       "      <td>False</td>\n",
       "      <td>False</td>\n",
       "      <td>False</td>\n",
       "      <td>83.3</td>\n",
       "      <td>273.33</td>\n",
       "      <td>9.53</td>\n",
       "      <td>...</td>\n",
       "      <td>27.79</td>\n",
       "      <td>4.00</td>\n",
       "      <td>0.00</td>\n",
       "      <td>2.81</td>\n",
       "      <td>1.43</td>\n",
       "      <td>1.33</td>\n",
       "      <td>0.93</td>\n",
       "      <td>3.36</td>\n",
       "      <td>0</td>\n",
       "      <td>0.758858</td>\n",
       "    </tr>\n",
       "    <tr>\n",
       "      <th>1</th>\n",
       "      <td>3074</td>\n",
       "      <td>dec2013_mask1</td>\n",
       "      <td>2.23</td>\n",
       "      <td>10.19</td>\n",
       "      <td>False</td>\n",
       "      <td>False</td>\n",
       "      <td>False</td>\n",
       "      <td>-99.0</td>\n",
       "      <td>224.80</td>\n",
       "      <td>19.77</td>\n",
       "      <td>...</td>\n",
       "      <td>33.34</td>\n",
       "      <td>1.00</td>\n",
       "      <td>0.00</td>\n",
       "      <td>3.79</td>\n",
       "      <td>2.58</td>\n",
       "      <td>1.46</td>\n",
       "      <td>0.57</td>\n",
       "      <td>-99.00</td>\n",
       "      <td>0</td>\n",
       "      <td>0.628085</td>\n",
       "    </tr>\n",
       "    <tr>\n",
       "      <th>2</th>\n",
       "      <td>3532</td>\n",
       "      <td>dec2013_mask1</td>\n",
       "      <td>2.10</td>\n",
       "      <td>9.40</td>\n",
       "      <td>True</td>\n",
       "      <td>False</td>\n",
       "      <td>False</td>\n",
       "      <td>9.9</td>\n",
       "      <td>17.55</td>\n",
       "      <td>9.61</td>\n",
       "      <td>...</td>\n",
       "      <td>8.84</td>\n",
       "      <td>0.86</td>\n",
       "      <td>0.09</td>\n",
       "      <td>1.67</td>\n",
       "      <td>0.51</td>\n",
       "      <td>0.30</td>\n",
       "      <td>0.58</td>\n",
       "      <td>1.14</td>\n",
       "      <td>0</td>\n",
       "      <td>0.475206</td>\n",
       "    </tr>\n",
       "    <tr>\n",
       "      <th>3</th>\n",
       "      <td>3842</td>\n",
       "      <td>dec2013_mask1</td>\n",
       "      <td>2.10</td>\n",
       "      <td>10.25</td>\n",
       "      <td>True</td>\n",
       "      <td>True</td>\n",
       "      <td>False</td>\n",
       "      <td>8.8</td>\n",
       "      <td>251.36</td>\n",
       "      <td>23.80</td>\n",
       "      <td>...</td>\n",
       "      <td>49.05</td>\n",
       "      <td>0.87</td>\n",
       "      <td>0.04</td>\n",
       "      <td>3.58</td>\n",
       "      <td>3.18</td>\n",
       "      <td>1.59</td>\n",
       "      <td>0.50</td>\n",
       "      <td>0.22</td>\n",
       "      <td>1</td>\n",
       "      <td>0.294136</td>\n",
       "    </tr>\n",
       "    <tr>\n",
       "      <th>4</th>\n",
       "      <td>4655</td>\n",
       "      <td>dec2013_mask1</td>\n",
       "      <td>2.10</td>\n",
       "      <td>9.34</td>\n",
       "      <td>True</td>\n",
       "      <td>True</td>\n",
       "      <td>True</td>\n",
       "      <td>1.2</td>\n",
       "      <td>134.39</td>\n",
       "      <td>30.26</td>\n",
       "      <td>...</td>\n",
       "      <td>19.59</td>\n",
       "      <td>0.59</td>\n",
       "      <td>0.17</td>\n",
       "      <td>0.99</td>\n",
       "      <td>1.21</td>\n",
       "      <td>0.60</td>\n",
       "      <td>0.49</td>\n",
       "      <td>0.39</td>\n",
       "      <td>1</td>\n",
       "      <td>0.203973</td>\n",
       "    </tr>\n",
       "  </tbody>\n",
       "</table>\n",
       "<p>5 rows × 29 columns</p>\n",
       "</div>"
      ],
      "text/plain": [
       "    zid           mask  zspec   mass cluster   disk compact   sfr      va  \\\n",
       "0  2765  dec2013_mask1   2.23  10.44   False  False   False  83.3  273.33   \n",
       "1  3074  dec2013_mask1   2.23  10.19   False  False   False -99.0  224.80   \n",
       "2  3532  dec2013_mask1   2.10   9.40    True  False   False   9.9   17.55   \n",
       "3  3842  dec2013_mask1   2.10  10.25    True   True   False   8.8  251.36   \n",
       "4  4655  dec2013_mask1   2.10   9.34    True   True    True   1.2  134.39   \n",
       "\n",
       "   va_err     ...      j_err  sersic  sersic_err  size_e  size_s  size_t  \\\n",
       "0    9.53     ...      27.79    4.00        0.00    2.81    1.43    1.33   \n",
       "1   19.77     ...      33.34    1.00        0.00    3.79    2.58    1.46   \n",
       "2    9.61     ...       8.84    0.86        0.09    1.67    0.51    0.30   \n",
       "3   23.80     ...      49.05    0.87        0.04    3.58    3.18    1.59   \n",
       "4   30.26     ...      19.59    0.59        0.17    0.99    1.21    0.60   \n",
       "\n",
       "   r_ratio  sfr_density  diskbin  morph_pred  \n",
       "0     0.93         3.36        0    0.758858  \n",
       "1     0.57       -99.00        0    0.628085  \n",
       "2     0.58         1.14        0    0.475206  \n",
       "3     0.50         0.22        1    0.294136  \n",
       "4     0.49         0.39        1    0.203973  \n",
       "\n",
       "[5 rows x 29 columns]"
      ]
     },
     "execution_count": 6,
     "metadata": {},
     "output_type": "execute_result"
    }
   ],
   "source": [
    "# make predictions for all values of X\n",
    "galaxies['morph_pred'] = linreg.predict(X)\n",
    "galaxies.head()"
   ]
  },
  {
   "cell_type": "code",
   "execution_count": 7,
   "metadata": {
    "collapsed": false
   },
   "outputs": [
    {
     "data": {
      "text/plain": [
       "<matplotlib.text.Text at 0x1123efb70>"
      ]
     },
     "execution_count": 7,
     "metadata": {},
     "output_type": "execute_result"
    },
    {
     "data": {
      "image/png": "[encoded data removed]",
      "text/plain": [
       "<matplotlib.figure.Figure at 0x1123dbf60>"
      ]
     },
     "metadata": {},
     "output_type": "display_data"
    }
   ],
   "source": [
    "# plot those predictions connected by a line\n",
    "plt.scatter(galaxies.sig, galaxies.diskbin)\n",
    "plt.plot(galaxies.sig, galaxies.morph_pred, color='red')\n",
    "plt.xlabel(r'$\\sigma_g$')\n",
    "plt.ylabel('Predicted Morphology')"
   ]
  },
  {
   "cell_type": "code",
   "execution_count": 8,
   "metadata": {
    "collapsed": false
   },
   "outputs": [
    {
     "data": {
      "text/plain": [
       "<matplotlib.text.Text at 0x1125ac438>"
      ]
     },
     "execution_count": 8,
     "metadata": {},
     "output_type": "execute_result"
    },
    {
     "data": {
      "image/png": "[encoded data removed]",
      "text/plain": [
       "<matplotlib.figure.Figure at 0x112597780>"
      ]
     },
     "metadata": {},
     "output_type": "display_data"
    }
   ],
   "source": [
    "#Using Logistic Regression Instead\n",
    "#Logistic regression can do what we just did:\n",
    "\n",
    "# fit a logistic regression model and store the class predictions\n",
    "from sklearn.linear_model import LogisticRegression\n",
    "logreg = LogisticRegression(C=1e9)\n",
    "feature_cols = ['sig']\n",
    "X = galaxies[feature_cols]\n",
    "y = galaxies.diskbin\n",
    "logreg.fit(X, y)\n",
    "galaxies['morph_pred_class'] = logreg.predict(X)\n",
    "plt.scatter(galaxies.sig, galaxies.diskbin)\n",
    "plt.plot(galaxies.sig, galaxies.morph_pred_class, color='red')\n",
    "plt.xlabel(r'$\\sigma_g$')\n",
    "plt.ylabel('Morphology')"
   ]
  },
  {
   "cell_type": "code",
   "execution_count": 9,
   "metadata": {
    "collapsed": false
   },
   "outputs": [
    {
     "data": {
      "text/plain": [
       "<matplotlib.text.Text at 0x1125c97f0>"
      ]
     },
     "execution_count": 9,
     "metadata": {},
     "output_type": "execute_result"
    },
    {
     "data": {
      "image/png": "[encoded data removed]",
      "text/plain": [
       "<matplotlib.figure.Figure at 0x1126f2748>"
      ]
     },
     "metadata": {},
     "output_type": "display_data"
    }
   ],
   "source": [
    "#What if we wanted the predicted probabilities instead of just the class predictions, to understand how confident we are in a given prediction?\n",
    "\n",
    "# store the predicted probabilites of class 1\n",
    "galaxies['morph_pred_prob'] = logreg.predict_proba(X)[:, 1]\n",
    "# plot the predicted probabilities\n",
    "plt.scatter(galaxies.sig, galaxies.diskbin)\n",
    "plt.plot(galaxies.sig, galaxies.morph_pred_prob, color='red')\n",
    "plt.xlabel(r'$\\sigma_g$')\n",
    "plt.ylabel('Morphology')"
   ]
  },
  {
   "cell_type": "code",
   "execution_count": 10,
   "metadata": {
    "collapsed": false
   },
   "outputs": [
    {
     "name": "stdout",
     "output_type": "stream",
     "text": [
      "[[ 0.59193507  0.40806493]]\n",
      "[[ 0.87189831  0.12810169]]\n",
      "[[ 0.14279608  0.85720392]]\n"
     ]
    }
   ],
   "source": [
    "print(logreg.predict_proba(50))\n",
    "print(logreg.predict_proba(25))\n",
    "print(logreg.predict_proba(85))"
   ]
  },
  {
   "cell_type": "code",
   "execution_count": null,
   "metadata": {
    "collapsed": true
   },
   "outputs": [],
   "source": []
  }
 ],
 "metadata": {
  "kernelspec": {
   "display_name": "Python 3",
   "language": "python",
   "name": "python3"
  },
  "language_info": {
   "codemirror_mode": {
    "name": "ipython",
    "version": 3
   },
   "file_extension": ".py",
   "mimetype": "text/x-python",
   "name": "python",
   "nbconvert_exporter": "python",
   "pygments_lexer": "ipython3",
   "version": "3.5.2"
  }
 },
 "nbformat": 4,
 "nbformat_minor": 2
}
